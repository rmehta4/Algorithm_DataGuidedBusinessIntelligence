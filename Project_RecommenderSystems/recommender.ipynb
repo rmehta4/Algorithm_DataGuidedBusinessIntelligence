{
 "cells": [
  {
   "cell_type": "code",
   "execution_count": 1,
   "metadata": {
    "collapsed": false
   },
   "outputs": [
    {
     "ename": "SyntaxError",
     "evalue": "invalid syntax (<ipython-input-1-cae942e34aad>, line 2)",
     "output_type": "error",
     "traceback": [
      "\u001b[1;36m  File \u001b[1;32m\"<ipython-input-1-cae942e34aad>\"\u001b[1;36m, line \u001b[1;32m2\u001b[0m\n\u001b[1;33m    **Estimated time: 8hrs**\u001b[0m\n\u001b[1;37m     ^\u001b[0m\n\u001b[1;31mSyntaxError\u001b[0m\u001b[1;31m:\u001b[0m invalid syntax\n"
     ]
    }
   ],
   "source": [
    "# Music Recommender System using Apache Spark and Python\n",
    "**Estimated time: 8hrs**\n",
    "\n",
    "## Description\n",
    "\n",
    "For this project, you are to create a recommender system that will recommend new musical artists to a user based on their listening history. Suggesting different songs or musical artists to a user is important to many music streaming services, such as Pandora and Spotify. In addition, this type of recommender system could also be used as a means of suggesting TV shows or movies to a user (e.g., Netflix). \n",
    "\n",
    "To create this system you will be using Spark and the collaborative filtering technique. The instructions for completing this project will be laid out entirely in this file. You will have to implement any missing code as well as answer any questions.\n",
    "\n",
    "**Submission Instructions:** \n",
    "* Add all of your updates to this IPython file and do not clear any of the output you get from running your code.\n",
    "* Upload this file onto moodle.\n",
    "\n",
    "## Datasets\n",
    "\n",
    "You will be using some publicly available song data from audioscrobbler, which can be found [here](http://www-etud.iro.umontreal.ca/~bergstrj/audioscrobbler_data.html). However, we modified the original data files so that the code will run in a reasonable time on a single machine. The reduced data files have been suffixed with `_small.txt` and contains only the information relevant to the top 50 most prolific users (highest artist play counts).\n",
    "\n",
    "The original data file `user_artist_data.txt` contained about 141,000 unique users, and 1.6 million unique artists. About 24.2 million users’ plays of artists are recorded, along with their count.\n",
    "\n",
    "Note that when plays are scribbled, the client application submits the name of the artist being played. This name could be misspelled or nonstandard, and this may only be detected later. For example, \"The Smiths\", \"Smiths, The\", and \"the smiths\" may appear as distinct artist IDs in the data set, even though they clearly refer to the same artist. So, the data set includes `artist_alias.txt`, which maps artist IDs that are known misspellings or variants to the canonical ID of that artist.\n",
    "\n",
    "The `artist_data.txt` file then provides a map from the canonical artist ID to the name of the artist."
   ]
  },
  {
   "cell_type": "markdown",
   "metadata": {},
   "source": [
    "## Necessary Package Imports"
   ]
  },
  {
   "cell_type": "code",
   "execution_count": 1,
   "metadata": {
    "collapsed": false
   },
   "outputs": [],
   "source": [
    "from pyspark.mllib.recommendation import *\n",
    "import random\n",
    "from operator import *\n",
    "from pyspark import SparkContext\n",
    "\n",
    "sc = SparkContext()"
   ]
  },
  {
   "cell_type": "markdown",
   "metadata": {},
   "source": [
    "## Loading data\n",
    "\n",
    "Load the three datasets into RDDs and name them `artistData`, `artistAlias`, and `userArtistData`. View the README, or the files themselves, to see how this data is formated. Some of the files have tab delimeters while some have space delimiters. Make sure that your `userArtistData` RDD contains only the canonical artist IDs."
   ]
  },
  {
   "cell_type": "code",
   "execution_count": 2,
   "metadata": {
    "collapsed": false
   },
   "outputs": [],
   "source": [
    "artistData = sc.textFile('artist_data_small.txt')   ## artistid artist_name  \n",
    "artistAlias = sc.textFile('artist_alias_small.txt') ## badid, goodid\n",
    "userArtistData = sc.textFile('user_artist_data_small.txt') ## userid artistid playcount\n",
    "\n",
    "artistData = artistData.map(lambda l:l.split(\"\\t\")).map(lambda x:(int(x[0]),x[1]))\n",
    "\n",
    "alias_list = artistAlias.collect()\n",
    "user_Artist_list = userArtistData.collect()\n",
    "artist_alias_dict = {}\n",
    "\n",
    "for data in alias_list:\n",
    "    artists = data.split(\"\\t\")\n",
    "    artist_alias_dict[artists[0]] = artists[1]\n",
    "\n",
    "\n",
    "def parseCanonical(line):\n",
    "    data = line.split(\" \")\n",
    "    \n",
    "    if data[1] in artist_alias_dict:\n",
    "        return (int(data[0]),int(artist_alias_dict[data[1]]),int(data[2]))\n",
    "    else:\n",
    "        return (int(data[0]),int(data[1]),int(data[2]))\n",
    "         \n",
    "userArtistData = userArtistData.map(parseCanonical)"
   ]
  },
  {
   "cell_type": "code",
   "execution_count": 3,
   "metadata": {
    "collapsed": false
   },
   "outputs": [
    {
     "name": "stdout",
     "output_type": "stream",
     "text": [
      "User 1059637 has a total play count of 674412 and a mean play count of 1878\n",
      "User 2064012 has a total play count of 547111 and a mean play count of 9598\n",
      "User 2069337 has a total play count of 393483 and a mean play count of 1531\n"
     ]
    }
   ],
   "source": [
    "temp = userArtistData.map(lambda t:(int(t[0]),(int(t[1]),int(t[2]))))\n",
    "groupedTemp = temp.groupByKey().mapValues(lambda x:x).map(lambda x:(x[0],sum(dict(x[1]).values()),\\\n",
    "              len(dict(x[1]).values()))).sortBy(lambda x:x[1],False)\\\n",
    "              .map(lambda l:\"User \"+str(l[0])+\" has a total play count of \"+str(l[1])\\\n",
    "              +\" and a mean play count of \"+ str(l[1]/l[2])).take(3)\n",
    "\n",
    "for user in groupedTemp:\n",
    "    print user"
   ]
  },
  {
   "cell_type": "markdown",
   "metadata": {},
   "source": [
    "## Data Exploration\n",
    "\n",
    "In the blank below, write some code that with find the users' total play counts. Find the three users with the highest number of total play counts (sum of all counters) and print the user ID, the total play count, and the mean play count (average number of times a user played an artist). Your output should look as follows:\n",
    "```\n",
    "User 1059637 has a total play count of 674412 and a mean play count of 1878.\n",
    "User 2064012 has a total play count of 548427 and a mean play count of 9455.\n",
    "User 2069337 has a total play count of 393515 and a mean play count of 1519.\n",
    "```\n"
   ]
  },
  {
   "cell_type": "markdown",
   "metadata": {},
   "source": [
    "####  Splitting Data for Testing\n",
    "\n",
    "Use the [randomSplit](http://spark.apache.org/docs/latest/api/python/pyspark.html#pyspark.RDD.randomSplit) function to divide the data (`userArtistData`) into:\n",
    "* A training set, `trainData`, that will be used to train the model. This set should constitute 40% of the data.\n",
    "* A validation set, `validationData`, used to perform parameter tuning. This set should constitute 40% of the data.\n",
    "* A test set, `testData`, used for a final evaluation of the model. This set should constitute 20% of the data.\n",
    "\n",
    "Use a random seed value of 13. Since these datasets will be repeatedly used you will probably want to persist them in memory using the [cache](http://spark.apache.org/docs/latest/api/python/pyspark.html#pyspark.RDD.cache) function.\n",
    "\n",
    "In addition, print out the first 3 elements of each set as well as their sizes; if you created these sets correctly, your output should look as follows:\n",
    "```\n",
    "[(1059637, 1000049, 1), (1059637, 1000056, 1), (1059637, 1000113, 5)]\n",
    "[(1059637, 1000010, 238), (1059637, 1000062, 11), (1059637, 1000112, 423)]\n",
    "[(1059637, 1000094, 1), (1059637, 1000130, 19129), (1059637, 1000139, 4)]\n",
    "19817\n",
    "19633\n",
    "10031\n",
    "```"
   ]
  },
  {
   "cell_type": "code",
   "execution_count": 4,
   "metadata": {
    "collapsed": false
   },
   "outputs": [
    {
     "name": "stdout",
     "output_type": "stream",
     "text": [
      "[(1059637, 1000049, 1), (1059637, 1000056, 1), (1059637, 1000113, 5)]\n",
      "[(1059637, 1000010, 238), (1059637, 1000062, 11), (1059637, 1000112, 423)]\n",
      "[(1059637, 1000094, 1), (1059637, 1000130, 19129), (1059637, 1000139, 4)]\n",
      "19817\n",
      "19633\n",
      "10031\n"
     ]
    }
   ],
   "source": [
    "trainData, validationData, testData = userArtistData.randomSplit([4, 4, 2], 13)\n",
    "\n",
    "#Caching and creating ratings object\n",
    "trainData = trainData.cache()\n",
    "validationData = validationData.cache()\n",
    "testData = testData.cache()\n",
    "\n",
    "print trainData.take(3)\n",
    "print validationData.take(3)\n",
    "print testData.take(3)\n",
    "print trainData.count()\n",
    "print validationData.count()\n",
    "print testData.count()"
   ]
  },
  {
   "cell_type": "markdown",
   "metadata": {},
   "source": [
    "## The Recommender Model\n",
    "\n",
    "For this project, we will train the model with implicit feedback. You can read more information about this from the collaborative filtering page: [http://spark.apache.org/docs/latest/mllib-collaborative-filtering.html](http://spark.apache.org/docs/latest/mllib-collaborative-filtering.html). The [function you will be using](http://spark.apache.org/docs/latest/api/python/pyspark.mllib.html#pyspark.mllib.recommendation.ALS.trainImplicit) has a few tunable parameters that will affect how the model is built. Therefore, to get the best model, we will do a small parameter sweep and choose the model that performs the best on the validation set\n",
    "\n",
    "Therefore, we must first devise a way to evaluate models. Once we have a method for evaluation, we can run a parameter sweep, evaluate each combination of parameters on the validation data, and choose the optimal set of parameters. The parameters then can be used to make predictions on the test data.\n",
    "\n",
    "### Model Evaluation\n",
    "\n",
    "Although there may be several ways to evaluate a model, we will use a simple method here. Suppose we have a model and some dataset of *true* artist plays for a set of users. This model can be used to predict the top X artist recommendations for a user and these recommendations can be compared the artists that the user actually listened to (here, X will be the number of artists in the dataset of *true* artist plays). Then, the fraction of overlap between the top X predictions of the model and the X artists that the user actually listened to can be calculated. This process can be repeated for all users and an average value returned.\n",
    "\n",
    "For example, suppose a model predicted [1,2,4,8] as the top X=4 artists for a user. Suppose, that user actually listened to the artists [1,3,7,8]. Then, for this user, the model would have a score of 2/4=0.5. To get the overall score, this would be performed for all users, with the average returned.\n",
    "\n",
    "**NOTE: when using the model to predict the top-X artists for a user, do not include the artists listed with that user in the training data.**\n",
    "\n",
    "Name your function `modelEval` and have it take a model (the output of ALS.trainImplicit) and a dataset as input. For parameter tuning, the dataset parameter should be set to the validation data (`validationData`). After parameter tuning, the model can be evaluated on the test data (`testData`)."
   ]
  },
  {
   "cell_type": "code",
   "execution_count": 5,
   "metadata": {
    "collapsed": false,
    "scrolled": true
   },
   "outputs": [],
   "source": [
    "AllDataArtists = userArtistData.map(lambda x:int(x[1])).distinct()\n",
    "\n",
    "def modelEval(model,dataset):\n",
    "    users = dataset.map(lambda x:x[0]).distinct()\n",
    "    score = 0.0\n",
    "    for user in users.collect():\n",
    "        \n",
    "        ##Artists from trainingSet for User\n",
    "        trainUserArtists = trainData.filter(lambda x:x[0]==user).map(lambda x:int(x[1]))\n",
    "       \n",
    "        ##Artists from dataset for User\n",
    "        datasetUserArtists = dataset.filter(lambda x:x[0]==user).map(lambda x:((x[0],x[1]),x[2]))\n",
    "        \n",
    "        ## total number of distinct artists for User\n",
    "        totalArtists = len(set(datasetUserArtists.collect()))\n",
    "        \n",
    "        ##do not include the artists listed with that user in the training data\n",
    "        nonTrainArtists=list(set(AllDataArtists.collect())-set(trainUserArtists.collect()))\n",
    "        nonTrainArtists = sc.parallelize(nonTrainArtists)\n",
    "        \n",
    "        ## Predict the artist ratings\n",
    "        predictions = model.predictAll(nonTrainArtists.map(lambda x: (user, x))).map(lambda x:((x.user,x.product),x.rating))\n",
    "       \n",
    "        ## Sort the Prediction by Rating decreasingly and take first n rows where n=totalArtists\n",
    "        sortedPrediction = predictions.sortBy(lambda x:x[1],False).take(totalArtists)\n",
    "        sortedPrediction = sc.parallelize(sortedPrediction)\n",
    "        \n",
    "        ## Join both RDDs to extract the common Artists\n",
    "        commonArtists = datasetUserArtists.join(sortedPrediction)\n",
    "        score = score + (float(float(commonArtists.count())/totalArtists))\n",
    "   \n",
    "    return float(score/users.count())"
   ]
  },
  {
   "cell_type": "markdown",
   "metadata": {},
   "source": [
    "### Model Construction\n",
    "\n",
    "Now we can build the best model possibly using the validation set of data and the `modelEval` function. Although, there are a few parameters we could optimize, for the sake of time, we will just try a few different values for the [rank parameter](http://spark.apache.org/docs/latest/mllib-collaborative-filtering.html#collaborative-filtering) (leave everything else at its default value, **except make `seed`=345**). Loop through the values [2, 10, 20] and figure out which one produces the highest scored based on your model evaluation function.\n",
    "\n",
    "Note: this procedure may take several minutes to run.\n",
    "\n",
    "For each rank value, print out the output of the `modelEval` function for that model. Your output should look as follows:\n",
    "```\n",
    "The model score for rank 2 is 0.090431\n",
    "The model score for rank 10 is 0.095294\n",
    "The model score for rank 20 is 0.090248\n",
    "```"
   ]
  },
  {
   "cell_type": "code",
   "execution_count": 6,
   "metadata": {
    "collapsed": false
   },
   "outputs": [
    {
     "name": "stdout",
     "output_type": "stream",
     "text": [
      "The model score for rank 2 is 0.093939\n",
      "The model score for rank 10 is 0.098259\n",
      "The model score for rank 20 is 0.084370\n"
     ]
    }
   ],
   "source": [
    "for rank in [2,10,20]:\n",
    "    bestModel = ALS.trainImplicit(trainData,rank=rank,seed=345)\n",
    "    print \"The model score for rank\",rank,\"is %.6f\"% modelEval(bestModel, validationData)"
   ]
  },
  {
   "cell_type": "markdown",
   "metadata": {},
   "source": [
    "Now, using the bestModel, we will check the results over the test data. Your result should be ~`0.0507`."
   ]
  },
  {
   "cell_type": "code",
   "execution_count": 7,
   "metadata": {
    "collapsed": false
   },
   "outputs": [
    {
     "name": "stdout",
     "output_type": "stream",
     "text": [
      "0.0612\n"
     ]
    }
   ],
   "source": [
    "bestModel = ALS.trainImplicit(trainData, rank=10, seed=345)\n",
    "print \"%.4f\"%modelEval(bestModel, testData)"
   ]
  },
  {
   "cell_type": "markdown",
   "metadata": {},
   "source": [
    "## Trying Some Artist Recommendations\n",
    "Using the best model above, predict the top 5 artists for user `1059637` using the [recommendProducts](http://spark.apache.org/docs/1.5.2/api/python/pyspark.mllib.html#pyspark.mllib.recommendation.MatrixFactorizationModel.recommendProducts) function. Map the results (integer IDs) into the real artist name using `artistAlias`. Print the results. The output should look as follows:\n",
    "```\n",
    "Artist 0: Brand New\n",
    "Artist 1: Taking Back Sunday\n",
    "Artist 2: Evanescence\n",
    "Artist 3: Elliott Smith\n",
    "Artist 4: blink-182\n",
    "```"
   ]
  },
  {
   "cell_type": "code",
   "execution_count": 8,
   "metadata": {
    "collapsed": false
   },
   "outputs": [
    {
     "name": "stdout",
     "output_type": "stream",
     "text": [
      "Artist 0: blink-182\n",
      "Artist 1: Elliott Smith\n",
      "Artist 2: Taking Back Sunday\n",
      "Artist 3: Incubus\n",
      "Artist 4: Death Cab for Cutie\n"
     ]
    }
   ],
   "source": [
    "top_Five_recommend = bestModel.recommendProducts(1059637, 5)\n",
    "\n",
    "rec_artists = list()\n",
    "\n",
    "for artists in top_Five_recommend:\n",
    "    rec_artists.append(artists[1])\n",
    "\n",
    "artistMap = artistData.collectAsMap()\n",
    "\n",
    "i=0\n",
    "for r in rec_artists:\n",
    "    print \"Artist\",str(i)+\":\",artistMap[r]\n",
    "    i=i+1"
   ]
  },
  {
   "cell_type": "code",
   "execution_count": null,
   "metadata": {
    "collapsed": true
   },
   "outputs": [],
   "source": []
  },
  {
   "cell_type": "code",
   "execution_count": null,
   "metadata": {
    "collapsed": true
   },
   "outputs": [],
   "source": []
  },
  {
   "cell_type": "code",
   "execution_count": null,
   "metadata": {
    "collapsed": true
   },
   "outputs": [],
   "source": []
  }
 ],
 "metadata": {
  "kernelspec": {
   "display_name": "Python [Root]",
   "language": "python",
   "name": "Python [Root]"
  },
  "language_info": {
   "codemirror_mode": {
    "name": "ipython",
    "version": 2
   },
   "file_extension": ".py",
   "mimetype": "text/x-python",
   "name": "python",
   "nbconvert_exporter": "python",
   "pygments_lexer": "ipython2",
   "version": "2.7.12"
  }
 },
 "nbformat": 4,
 "nbformat_minor": 0
}
